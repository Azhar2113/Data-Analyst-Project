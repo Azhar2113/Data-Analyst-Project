{
 "cells": [
  {
   "cell_type": "markdown",
   "id": "011ee2f7-97e7-434e-a918-997eda85734d",
   "metadata": {},
   "source": [
    "##  Task 1: Data Cleaning and Preprocessing\n"
   ]
  },
  {
   "cell_type": "code",
   "execution_count": 6,
   "id": "b675333a-d007-4961-9d3d-17cb3e9bf5fd",
   "metadata": {},
   "outputs": [
    {
     "name": "stdout",
     "output_type": "stream",
     "text": [
      "   sepal_length  sepal_width  petal_length  petal_width species\n",
      "0           5.1          3.5           1.4          0.2  setosa\n",
      "1           4.9          3.0           1.4          0.2  setosa\n",
      "2           4.7          3.2           1.3          0.2  setosa\n",
      "3           4.6          3.1           1.5          0.2  setosa\n",
      "4           5.0          3.6           1.4          0.2  setosa\n"
     ]
    }
   ],
   "source": [
    "import pandas as pd\n",
    "\n",
    "# Load dataset\n",
    "df = pd.read_csv(r'/Users/sahilraza/Documents/Codveda _Internship/iris.csv', encoding='unicode_escape')\n",
    "\n",
    "# First few rows dekhne ke liye\n",
    "print(df.head())"
   ]
  },
  {
   "cell_type": "markdown",
   "id": "46712878-cc72-4711-9682-107d417877da",
   "metadata": {},
   "source": [
    "Missing value"
   ]
  },
  {
   "cell_type": "code",
   "execution_count": 9,
   "id": "237e1c01-1864-4b26-adc8-86f52f489619",
   "metadata": {},
   "outputs": [
    {
     "name": "stdout",
     "output_type": "stream",
     "text": [
      "sepal_length    0\n",
      "sepal_width     0\n",
      "petal_length    0\n",
      "petal_width     0\n",
      "species         0\n",
      "dtype: int64\n"
     ]
    }
   ],
   "source": [
    "print(df.isnull().sum())\n"
   ]
  },
  {
   "cell_type": "code",
   "execution_count": 11,
   "id": "91d84ec8-d7d0-4023-a5f8-082de1ceed03",
   "metadata": {},
   "outputs": [
    {
     "name": "stdout",
     "output_type": "stream",
     "text": [
      "3\n"
     ]
    }
   ],
   "source": [
    "# Check duplicates\n",
    "print(df.duplicated().sum())\n",
    "\n",
    "# Remove duplicates\n",
    "df = df.drop_duplicates()\n"
   ]
  },
  {
   "cell_type": "code",
   "execution_count": 13,
   "id": "95c5db0f-56f6-4ee7-879f-11aeb8310343",
   "metadata": {},
   "outputs": [
    {
     "name": "stdout",
     "output_type": "stream",
     "text": [
      "0\n"
     ]
    }
   ],
   "source": [
    "# Check duplicates\n",
    "print(df.duplicated().sum())\n",
    "\n",
    "# Remove duplicates\n",
    "df = df.drop_duplicates()\n"
   ]
  },
  {
   "cell_type": "code",
   "execution_count": 17,
   "id": "1b496456-fc4c-41e0-b4f2-d97deb75d904",
   "metadata": {},
   "outputs": [],
   "source": [
    "# Example: Species column mein inconsistent text ho sakta hai\n",
    "df['species'] = df['species'].str.lower().str.strip()\n"
   ]
  },
  {
   "cell_type": "code",
   "execution_count": 21,
   "id": "e3906923-e4cc-411f-8e9c-0ca2df157e35",
   "metadata": {},
   "outputs": [
    {
     "name": "stdout",
     "output_type": "stream",
     "text": [
      "Data cleaned and saved successfully.\n"
     ]
    }
   ],
   "source": [
    "df.to_csv(\"cleaned_iris.csv\", index=False)\n",
    "print(\"Data cleaned and saved successfully.\")\n"
   ]
  }
 ],
 "metadata": {
  "kernelspec": {
   "display_name": "Python [conda env:base] *",
   "language": "python",
   "name": "conda-base-py"
  },
  "language_info": {
   "codemirror_mode": {
    "name": "ipython",
    "version": 3
   },
   "file_extension": ".py",
   "mimetype": "text/x-python",
   "name": "python",
   "nbconvert_exporter": "python",
   "pygments_lexer": "ipython3",
   "version": "3.12.7"
  }
 },
 "nbformat": 4,
 "nbformat_minor": 5
}
